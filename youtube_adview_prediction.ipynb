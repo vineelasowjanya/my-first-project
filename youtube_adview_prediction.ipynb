{
  "nbformat": 4,
  "nbformat_minor": 0,
  "metadata": {
    "colab": {
      "name": "youtube adview prediction",
      "provenance": [],
      "collapsed_sections": [],
      "authorship_tag": "ABX9TyMuZVDNBc347XumLjMmt4h+",
      "include_colab_link": true
    },
    "kernelspec": {
      "display_name": "Python 3",
      "name": "python3"
    }
  },
  "cells": [
    {
      "cell_type": "markdown",
      "metadata": {
        "id": "view-in-github",
        "colab_type": "text"
      },
      "source": [
        "<a href=\"https://colab.research.google.com/github/vineelasowjanya/my-first-project/blob/main/youtube_adview_prediction.ipynb\" target=\"_parent\"><img src=\"https://colab.research.google.com/assets/colab-badge.svg\" alt=\"Open In Colab\"/></a>"
      ]
    },
    {
      "cell_type": "markdown",
      "metadata": {
        "id": "CS9aaAindtW9"
      },
      "source": [
        "Youtube Adview Prediction"
      ]
    },
    {
      "cell_type": "code",
      "metadata": {
        "id": "RZccPVuPxfTy",
        "colab": {
          "background_save": true
        }
      },
      "source": [
        "import pandas as pd\n",
        "import numpy as np\n",
        "import seaborn as sns                       \n",
        "import matplotlib.pyplot as plt             \n",
        "%matplotlib inline\n",
        "plt.rcParams[\"figure.figsize\"] = (10,8)"
      ],
      "execution_count": null,
      "outputs": []
    },
    {
      "cell_type": "markdown",
      "metadata": {
        "id": "0uktdXtqfEUk"
      },
      "source": [
        "Importing Data"
      ]
    },
    {
      "cell_type": "code",
      "metadata": {
        "id": "m9aaXWCaxoeR",
        "outputId": "5843383c-b875-455d-de60-0937899722c9",
        "colab": {
          "resources": {
            "http://localhost:8080/nbextensions/google.colab/files.js": {
              "data": "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",
              "headers": [
                [
                  "content-type",
                  "application/javascript"
                ]
              ],
              "ok": true,
              "status": 200,
              "status_text": ""
            }
          },
          "base_uri": "https://localhost:8080/",
          "height": 73
        }
      },
      "source": [
        "from google.colab import files\n",
        "uploaded = files.upload()"
      ],
      "execution_count": null,
      "outputs": [
        {
          "output_type": "display_data",
          "data": {
            "text/html": [
              "\n",
              "     <input type=\"file\" id=\"files-98024e65-7c5f-42e9-b581-224404889b11\" name=\"files[]\" multiple disabled\n",
              "        style=\"border:none\" />\n",
              "     <output id=\"result-98024e65-7c5f-42e9-b581-224404889b11\">\n",
              "      Upload widget is only available when the cell has been executed in the\n",
              "      current browser session. Please rerun this cell to enable.\n",
              "      </output>\n",
              "      <script src=\"/nbextensions/google.colab/files.js\"></script> "
            ],
            "text/plain": [
              "<IPython.core.display.HTML object>"
            ]
          },
          "metadata": {
            "tags": []
          }
        },
        {
          "output_type": "stream",
          "text": [
            "Saving train.csv to train.csv\n"
          ],
          "name": "stdout"
        }
      ]
    },
    {
      "cell_type": "code",
      "metadata": {
        "id": "yAehKQYOx73Q",
        "outputId": "b6360a3e-300f-4098-c0b1-4e0a8472c183",
        "colab": {
          "base_uri": "https://localhost:8080/",
          "height": 195
        }
      },
      "source": [
        "path=\"\"#\n",
        "data_train= pd.read_csv(path + \"train.csv\")\n",
        "data_train.head()"
      ],
      "execution_count": null,
      "outputs": [
        {
          "output_type": "execute_result",
          "data": {
            "text/html": [
              "<div>\n",
              "<style scoped>\n",
              "    .dataframe tbody tr th:only-of-type {\n",
              "        vertical-align: middle;\n",
              "    }\n",
              "\n",
              "    .dataframe tbody tr th {\n",
              "        vertical-align: top;\n",
              "    }\n",
              "\n",
              "    .dataframe thead th {\n",
              "        text-align: right;\n",
              "    }\n",
              "</style>\n",
              "<table border=\"1\" class=\"dataframe\">\n",
              "  <thead>\n",
              "    <tr style=\"text-align: right;\">\n",
              "      <th></th>\n",
              "      <th>vidid</th>\n",
              "      <th>adview</th>\n",
              "      <th>views</th>\n",
              "      <th>likes</th>\n",
              "      <th>dislikes</th>\n",
              "      <th>comment</th>\n",
              "      <th>published</th>\n",
              "      <th>duration</th>\n",
              "      <th>category</th>\n",
              "    </tr>\n",
              "  </thead>\n",
              "  <tbody>\n",
              "    <tr>\n",
              "      <th>0</th>\n",
              "      <td>VID_18655</td>\n",
              "      <td>40</td>\n",
              "      <td>1031602</td>\n",
              "      <td>8523</td>\n",
              "      <td>363</td>\n",
              "      <td>1095</td>\n",
              "      <td>2016-09-14</td>\n",
              "      <td>PT7M37S</td>\n",
              "      <td>F</td>\n",
              "    </tr>\n",
              "    <tr>\n",
              "      <th>1</th>\n",
              "      <td>VID_14135</td>\n",
              "      <td>2</td>\n",
              "      <td>1707</td>\n",
              "      <td>56</td>\n",
              "      <td>2</td>\n",
              "      <td>6</td>\n",
              "      <td>2016-10-01</td>\n",
              "      <td>PT9M30S</td>\n",
              "      <td>D</td>\n",
              "    </tr>\n",
              "    <tr>\n",
              "      <th>2</th>\n",
              "      <td>VID_2187</td>\n",
              "      <td>1</td>\n",
              "      <td>2023</td>\n",
              "      <td>25</td>\n",
              "      <td>0</td>\n",
              "      <td>2</td>\n",
              "      <td>2016-07-02</td>\n",
              "      <td>PT2M16S</td>\n",
              "      <td>C</td>\n",
              "    </tr>\n",
              "    <tr>\n",
              "      <th>3</th>\n",
              "      <td>VID_23096</td>\n",
              "      <td>6</td>\n",
              "      <td>620860</td>\n",
              "      <td>777</td>\n",
              "      <td>161</td>\n",
              "      <td>153</td>\n",
              "      <td>2016-07-27</td>\n",
              "      <td>PT4M22S</td>\n",
              "      <td>H</td>\n",
              "    </tr>\n",
              "    <tr>\n",
              "      <th>4</th>\n",
              "      <td>VID_10175</td>\n",
              "      <td>1</td>\n",
              "      <td>666</td>\n",
              "      <td>1</td>\n",
              "      <td>0</td>\n",
              "      <td>0</td>\n",
              "      <td>2016-06-29</td>\n",
              "      <td>PT31S</td>\n",
              "      <td>D</td>\n",
              "    </tr>\n",
              "  </tbody>\n",
              "</table>\n",
              "</div>"
            ],
            "text/plain": [
              "       vidid  adview    views likes  ... comment   published duration category\n",
              "0  VID_18655      40  1031602  8523  ...    1095  2016-09-14  PT7M37S        F\n",
              "1  VID_14135       2     1707    56  ...       6  2016-10-01  PT9M30S        D\n",
              "2   VID_2187       1     2023    25  ...       2  2016-07-02  PT2M16S        C\n",
              "3  VID_23096       6   620860   777  ...     153  2016-07-27  PT4M22S        H\n",
              "4  VID_10175       1      666     1  ...       0  2016-06-29    PT31S        D\n",
              "\n",
              "[5 rows x 9 columns]"
            ]
          },
          "metadata": {
            "tags": []
          },
          "execution_count": 28
        }
      ]
    },
    {
      "cell_type": "code",
      "metadata": {
        "id": "WQHctOp9yqhM",
        "outputId": "e74da86c-a839-47b3-b778-ba4bd3b1a872",
        "colab": {
          "base_uri": "https://localhost:8080/",
          "height": 34
        }
      },
      "source": [
        "data_train.shape"
      ],
      "execution_count": null,
      "outputs": [
        {
          "output_type": "execute_result",
          "data": {
            "text/plain": [
              "(14999, 9)"
            ]
          },
          "metadata": {
            "tags": []
          },
          "execution_count": 29
        }
      ]
    },
    {
      "cell_type": "markdown",
      "metadata": {
        "id": "xZ_eOpsNfSrf"
      },
      "source": [
        "assigning values to the categories"
      ]
    },
    {
      "cell_type": "code",
      "metadata": {
        "id": "6RzogVHF1DLM",
        "outputId": "3c282701-5905-44e4-9ace-a620b74f23f3",
        "colab": {
          "base_uri": "https://localhost:8080/",
          "height": 195
        }
      },
      "source": [
        "category={'A':1,'B':2,'C':3,'D':4,'E':5,'F':6,'G':7,'H':8}\n",
        "data_train[\"category\"]=data_train[\"category\"].map(category)\n",
        "data_train.head()"
      ],
      "execution_count": null,
      "outputs": [
        {
          "output_type": "execute_result",
          "data": {
            "text/html": [
              "<div>\n",
              "<style scoped>\n",
              "    .dataframe tbody tr th:only-of-type {\n",
              "        vertical-align: middle;\n",
              "    }\n",
              "\n",
              "    .dataframe tbody tr th {\n",
              "        vertical-align: top;\n",
              "    }\n",
              "\n",
              "    .dataframe thead th {\n",
              "        text-align: right;\n",
              "    }\n",
              "</style>\n",
              "<table border=\"1\" class=\"dataframe\">\n",
              "  <thead>\n",
              "    <tr style=\"text-align: right;\">\n",
              "      <th></th>\n",
              "      <th>vidid</th>\n",
              "      <th>adview</th>\n",
              "      <th>views</th>\n",
              "      <th>likes</th>\n",
              "      <th>dislikes</th>\n",
              "      <th>comment</th>\n",
              "      <th>published</th>\n",
              "      <th>duration</th>\n",
              "      <th>category</th>\n",
              "    </tr>\n",
              "  </thead>\n",
              "  <tbody>\n",
              "    <tr>\n",
              "      <th>0</th>\n",
              "      <td>VID_18655</td>\n",
              "      <td>40</td>\n",
              "      <td>1031602</td>\n",
              "      <td>8523</td>\n",
              "      <td>363</td>\n",
              "      <td>1095</td>\n",
              "      <td>2016-09-14</td>\n",
              "      <td>PT7M37S</td>\n",
              "      <td>6</td>\n",
              "    </tr>\n",
              "    <tr>\n",
              "      <th>1</th>\n",
              "      <td>VID_14135</td>\n",
              "      <td>2</td>\n",
              "      <td>1707</td>\n",
              "      <td>56</td>\n",
              "      <td>2</td>\n",
              "      <td>6</td>\n",
              "      <td>2016-10-01</td>\n",
              "      <td>PT9M30S</td>\n",
              "      <td>4</td>\n",
              "    </tr>\n",
              "    <tr>\n",
              "      <th>2</th>\n",
              "      <td>VID_2187</td>\n",
              "      <td>1</td>\n",
              "      <td>2023</td>\n",
              "      <td>25</td>\n",
              "      <td>0</td>\n",
              "      <td>2</td>\n",
              "      <td>2016-07-02</td>\n",
              "      <td>PT2M16S</td>\n",
              "      <td>3</td>\n",
              "    </tr>\n",
              "    <tr>\n",
              "      <th>3</th>\n",
              "      <td>VID_23096</td>\n",
              "      <td>6</td>\n",
              "      <td>620860</td>\n",
              "      <td>777</td>\n",
              "      <td>161</td>\n",
              "      <td>153</td>\n",
              "      <td>2016-07-27</td>\n",
              "      <td>PT4M22S</td>\n",
              "      <td>8</td>\n",
              "    </tr>\n",
              "    <tr>\n",
              "      <th>4</th>\n",
              "      <td>VID_10175</td>\n",
              "      <td>1</td>\n",
              "      <td>666</td>\n",
              "      <td>1</td>\n",
              "      <td>0</td>\n",
              "      <td>0</td>\n",
              "      <td>2016-06-29</td>\n",
              "      <td>PT31S</td>\n",
              "      <td>4</td>\n",
              "    </tr>\n",
              "  </tbody>\n",
              "</table>\n",
              "</div>"
            ],
            "text/plain": [
              "       vidid  adview    views likes  ... comment   published duration category\n",
              "0  VID_18655      40  1031602  8523  ...    1095  2016-09-14  PT7M37S        6\n",
              "1  VID_14135       2     1707    56  ...       6  2016-10-01  PT9M30S        4\n",
              "2   VID_2187       1     2023    25  ...       2  2016-07-02  PT2M16S        3\n",
              "3  VID_23096       6   620860   777  ...     153  2016-07-27  PT4M22S        8\n",
              "4  VID_10175       1      666     1  ...       0  2016-06-29    PT31S        4\n",
              "\n",
              "[5 rows x 9 columns]"
            ]
          },
          "metadata": {
            "tags": []
          },
          "execution_count": 30
        }
      ]
    },
    {
      "cell_type": "code",
      "metadata": {
        "id": "xQbaw_3O2dE_"
      },
      "source": [
        "data_train=data_train[data_train.views!='F']\n",
        "data_train=data_train[data_train.likes!='F']\n",
        "data_train=data_train[data_train.dislikes!='F']\n",
        "data_train=data_train[data_train.comment!='F']"
      ],
      "execution_count": null,
      "outputs": []
    },
    {
      "cell_type": "code",
      "metadata": {
        "id": "51WRnUgP3Z--"
      },
      "source": [
        "data_train[\"views\"]=pd.to_numeric(data_train[\"views\"])\n",
        "data_train[\"likes\"]=pd.to_numeric(data_train[\"likes\"])\n",
        "data_train[\"dislikes\"]=pd.to_numeric(data_train[\"dislikes\"])\n",
        "data_train[\"comment\"]=pd.to_numeric(data_train[\"comment\"])\n",
        "data_train[\"adview\"]=pd.to_numeric(data_train[\"adview\"])\n",
        "\n",
        "column_vidid=data_train['vidid']\n"
      ],
      "execution_count": null,
      "outputs": []
    },
    {
      "cell_type": "markdown",
      "metadata": {
        "id": "HLSC9bRZgr11"
      },
      "source": [
        "Encoding duration,vidid and published"
      ]
    },
    {
      "cell_type": "code",
      "metadata": {
        "id": "ilM1pzzw4cwV",
        "outputId": "811cb21d-71b7-4a47-dd19-372a008cd307",
        "colab": {
          "base_uri": "https://localhost:8080/",
          "height": 195
        }
      },
      "source": [
        "from sklearn.preprocessing import LabelEncoder\n",
        "data_train['duration']=LabelEncoder().fit_transform(data_train['duration'])\n",
        "data_train['vidid']=LabelEncoder().fit_transform(data_train['vidid'])\n",
        "data_train['published']=LabelEncoder().fit_transform(data_train['published'])\n",
        "data_train.head()"
      ],
      "execution_count": null,
      "outputs": [
        {
          "output_type": "execute_result",
          "data": {
            "text/html": [
              "<div>\n",
              "<style scoped>\n",
              "    .dataframe tbody tr th:only-of-type {\n",
              "        vertical-align: middle;\n",
              "    }\n",
              "\n",
              "    .dataframe tbody tr th {\n",
              "        vertical-align: top;\n",
              "    }\n",
              "\n",
              "    .dataframe thead th {\n",
              "        text-align: right;\n",
              "    }\n",
              "</style>\n",
              "<table border=\"1\" class=\"dataframe\">\n",
              "  <thead>\n",
              "    <tr style=\"text-align: right;\">\n",
              "      <th></th>\n",
              "      <th>vidid</th>\n",
              "      <th>adview</th>\n",
              "      <th>views</th>\n",
              "      <th>likes</th>\n",
              "      <th>dislikes</th>\n",
              "      <th>comment</th>\n",
              "      <th>published</th>\n",
              "      <th>duration</th>\n",
              "      <th>category</th>\n",
              "    </tr>\n",
              "  </thead>\n",
              "  <tbody>\n",
              "    <tr>\n",
              "      <th>0</th>\n",
              "      <td>5912</td>\n",
              "      <td>40</td>\n",
              "      <td>1031602</td>\n",
              "      <td>8523</td>\n",
              "      <td>363</td>\n",
              "      <td>1095</td>\n",
              "      <td>2168</td>\n",
              "      <td>2925</td>\n",
              "      <td>6</td>\n",
              "    </tr>\n",
              "    <tr>\n",
              "      <th>1</th>\n",
              "      <td>2741</td>\n",
              "      <td>2</td>\n",
              "      <td>1707</td>\n",
              "      <td>56</td>\n",
              "      <td>2</td>\n",
              "      <td>6</td>\n",
              "      <td>2185</td>\n",
              "      <td>3040</td>\n",
              "      <td>4</td>\n",
              "    </tr>\n",
              "    <tr>\n",
              "      <th>2</th>\n",
              "      <td>8138</td>\n",
              "      <td>1</td>\n",
              "      <td>2023</td>\n",
              "      <td>25</td>\n",
              "      <td>0</td>\n",
              "      <td>2</td>\n",
              "      <td>2094</td>\n",
              "      <td>1863</td>\n",
              "      <td>3</td>\n",
              "    </tr>\n",
              "    <tr>\n",
              "      <th>3</th>\n",
              "      <td>9005</td>\n",
              "      <td>6</td>\n",
              "      <td>620860</td>\n",
              "      <td>777</td>\n",
              "      <td>161</td>\n",
              "      <td>153</td>\n",
              "      <td>2119</td>\n",
              "      <td>2546</td>\n",
              "      <td>8</td>\n",
              "    </tr>\n",
              "    <tr>\n",
              "      <th>4</th>\n",
              "      <td>122</td>\n",
              "      <td>1</td>\n",
              "      <td>666</td>\n",
              "      <td>1</td>\n",
              "      <td>0</td>\n",
              "      <td>0</td>\n",
              "      <td>2091</td>\n",
              "      <td>1963</td>\n",
              "      <td>4</td>\n",
              "    </tr>\n",
              "  </tbody>\n",
              "</table>\n",
              "</div>"
            ],
            "text/plain": [
              "   vidid  adview    views  likes  ...  comment  published  duration  category\n",
              "0   5912      40  1031602   8523  ...     1095       2168      2925         6\n",
              "1   2741       2     1707     56  ...        6       2185      3040         4\n",
              "2   8138       1     2023     25  ...        2       2094      1863         3\n",
              "3   9005       6   620860    777  ...      153       2119      2546         8\n",
              "4    122       1      666      1  ...        0       2091      1963         4\n",
              "\n",
              "[5 rows x 9 columns]"
            ]
          },
          "metadata": {
            "tags": []
          },
          "execution_count": 33
        }
      ]
    },
    {
      "cell_type": "markdown",
      "metadata": {
        "id": "EcrXwF-mg-F5"
      },
      "source": [
        "convert Time in sec for duration"
      ]
    },
    {
      "cell_type": "code",
      "metadata": {
        "id": "FCXjv2SfeyzG",
        "outputId": "3ae5a7f3-7cef-4507-dde6-a8e0307acb2b",
        "colab": {
          "base_uri": "https://localhost:8080/",
          "height": 195
        }
      },
      "source": [
        "import datetime\n",
        "import time\n",
        "def checki(x):\n",
        "  y=x[2:]\n",
        "  h=''\n",
        "  m=''\n",
        "  s=''\n",
        "  mm=''\n",
        "  P=[\"H\",\"M\",\"S\"]\n",
        "  for i in y:\n",
        "    if i not in P:\n",
        "      mm+=i\n",
        "    else:\n",
        "      if (i==\"H\"):\n",
        "        h=mm\n",
        "        mm=''\n",
        "      elif (i==\"M\"):\n",
        "        m=mm\n",
        "        mm=''\n",
        "      else:\n",
        "        s=mm\n",
        "        mm=''\n",
        "  if (h==''):\n",
        "    h='00'\n",
        "  if (m==''):\n",
        "    m='00'\n",
        "  if (s==''):\n",
        "    s='00'\n",
        "  bp=h+':'+m+':'+s\n",
        "  return bp\n",
        "train=pd.read_csv(\"train.csv\")\n",
        "mp=pd.read_csv(path+\"train.csv\")[\"duration\"]\n",
        "time=mp.apply(checki)\n",
        "\n",
        "def func_sec(time_string):\n",
        "  h,m,s=time_string.split(':')\n",
        "  return int(h) * 3600 + int(m) * 60 + int(s)\n",
        "\n",
        "time1=time.apply(func_sec)\n",
        "\n",
        "data_train[\"duration\"]=time1\n",
        "data_train.head()"
      ],
      "execution_count": null,
      "outputs": [
        {
          "output_type": "execute_result",
          "data": {
            "text/html": [
              "<div>\n",
              "<style scoped>\n",
              "    .dataframe tbody tr th:only-of-type {\n",
              "        vertical-align: middle;\n",
              "    }\n",
              "\n",
              "    .dataframe tbody tr th {\n",
              "        vertical-align: top;\n",
              "    }\n",
              "\n",
              "    .dataframe thead th {\n",
              "        text-align: right;\n",
              "    }\n",
              "</style>\n",
              "<table border=\"1\" class=\"dataframe\">\n",
              "  <thead>\n",
              "    <tr style=\"text-align: right;\">\n",
              "      <th></th>\n",
              "      <th>vidid</th>\n",
              "      <th>adview</th>\n",
              "      <th>views</th>\n",
              "      <th>likes</th>\n",
              "      <th>dislikes</th>\n",
              "      <th>comment</th>\n",
              "      <th>published</th>\n",
              "      <th>duration</th>\n",
              "      <th>category</th>\n",
              "    </tr>\n",
              "  </thead>\n",
              "  <tbody>\n",
              "    <tr>\n",
              "      <th>0</th>\n",
              "      <td>5912</td>\n",
              "      <td>40</td>\n",
              "      <td>1031602</td>\n",
              "      <td>8523</td>\n",
              "      <td>363</td>\n",
              "      <td>1095</td>\n",
              "      <td>2168</td>\n",
              "      <td>457</td>\n",
              "      <td>6</td>\n",
              "    </tr>\n",
              "    <tr>\n",
              "      <th>1</th>\n",
              "      <td>2741</td>\n",
              "      <td>2</td>\n",
              "      <td>1707</td>\n",
              "      <td>56</td>\n",
              "      <td>2</td>\n",
              "      <td>6</td>\n",
              "      <td>2185</td>\n",
              "      <td>570</td>\n",
              "      <td>4</td>\n",
              "    </tr>\n",
              "    <tr>\n",
              "      <th>2</th>\n",
              "      <td>8138</td>\n",
              "      <td>1</td>\n",
              "      <td>2023</td>\n",
              "      <td>25</td>\n",
              "      <td>0</td>\n",
              "      <td>2</td>\n",
              "      <td>2094</td>\n",
              "      <td>136</td>\n",
              "      <td>3</td>\n",
              "    </tr>\n",
              "    <tr>\n",
              "      <th>3</th>\n",
              "      <td>9005</td>\n",
              "      <td>6</td>\n",
              "      <td>620860</td>\n",
              "      <td>777</td>\n",
              "      <td>161</td>\n",
              "      <td>153</td>\n",
              "      <td>2119</td>\n",
              "      <td>262</td>\n",
              "      <td>8</td>\n",
              "    </tr>\n",
              "    <tr>\n",
              "      <th>4</th>\n",
              "      <td>122</td>\n",
              "      <td>1</td>\n",
              "      <td>666</td>\n",
              "      <td>1</td>\n",
              "      <td>0</td>\n",
              "      <td>0</td>\n",
              "      <td>2091</td>\n",
              "      <td>31</td>\n",
              "      <td>4</td>\n",
              "    </tr>\n",
              "  </tbody>\n",
              "</table>\n",
              "</div>"
            ],
            "text/plain": [
              "   vidid  adview    views  likes  ...  comment  published  duration  category\n",
              "0   5912      40  1031602   8523  ...     1095       2168       457         6\n",
              "1   2741       2     1707     56  ...        6       2185       570         4\n",
              "2   8138       1     2023     25  ...        2       2094       136         3\n",
              "3   9005       6   620860    777  ...      153       2119       262         8\n",
              "4    122       1      666      1  ...        0       2091        31         4\n",
              "\n",
              "[5 rows x 9 columns]"
            ]
          },
          "metadata": {
            "tags": []
          },
          "execution_count": 34
        }
      ]
    },
    {
      "cell_type": "markdown",
      "metadata": {
        "id": "OW-3J8zYhG-L"
      },
      "source": [
        "Data Visualization"
      ]
    },
    {
      "cell_type": "code",
      "metadata": {
        "id": "PXKjRVMLk4YA",
        "outputId": "00deafd9-9bf2-4784-c83f-d54bc5889c00",
        "colab": {
          "base_uri": "https://localhost:8080/",
          "height": 960
        }
      },
      "source": [
        "plt.hist(data_train[\"category\"])\n",
        "plt.show()\n",
        "plt.plot(data_train[\"adview\"])\n",
        "plt.show()"
      ],
      "execution_count": null,
      "outputs": [
        {
          "output_type": "display_data",
          "data": {
            "image/png": "[encoded data removed]",
            "text/plain": [
              "<Figure size 720x576 with 1 Axes>"
            ]
          },
          "metadata": {
            "tags": []
          }
        },
        {
          "output_type": "display_data",
          "data": {
            "image/png": "[encoded data removed]",
            "text/plain": [
              "<Figure size 720x576 with 1 Axes>"
            ]
          },
          "metadata": {
            "tags": []
          }
        }
      ]
    },
    {
      "cell_type": "markdown",
      "metadata": {
        "id": "6HYeO5Dkhfpa"
      },
      "source": [
        "Heat map"
      ]
    },
    {
      "cell_type": "code",
      "metadata": {
        "id": "nREJ_u8qVhdF",
        "outputId": "6e4a6ed5-5618-43c9-e9f5-eebd49e0d4da",
        "colab": {
          "base_uri": "https://localhost:8080/",
          "height": 487
        }
      },
      "source": [
        "data_train=data_train[data_train[\"adview\"]<2000000]\n",
        "\n",
        "f,ax=plt.subplots(figsize=(10,8))\n",
        "corr=data_train.corr()\n",
        "sns.heatmap(corr,mask=np.zeros_like(corr,dtype=np.bool),cmap=sns.diverging_palette(220,10,as_cmap=True),square=True, ax=ax,annot=True)\n",
        "plt.show()"
      ],
      "execution_count": null,
      "outputs": [
        {
          "output_type": "display_data",
          "data": {
            "image/png": "[encoded data removed]",
            "text/plain": [
              "<Figure size 720x576 with 2 Axes>"
            ]
          },
          "metadata": {
            "tags": []
          }
        }
      ]
    },
    {
      "cell_type": "markdown",
      "metadata": {
        "id": "j_vZ52QFiNgn"
      },
      "source": [
        "Dividing the data"
      ]
    },
    {
      "cell_type": "code",
      "metadata": {
        "id": "b0CZKtPQYy6n",
        "outputId": "8fb8da8d-b8e8-4701-cac0-9b72f961d363",
        "colab": {
          "base_uri": "https://localhost:8080/",
          "height": 195
        }
      },
      "source": [
        "Y_train=pd.DataFrame(data_train.iloc[:,1].values, columns =['target'])\n",
        "from sklearn.model_selection import train_test_split\n",
        "X_train,X_test,y_train,y_test=train_test_split(data_train,Y_train,test_size=0.2,random_state=42)\n",
        "\n",
        "data_train.head()"
      ],
      "execution_count": null,
      "outputs": [
        {
          "output_type": "execute_result",
          "data": {
            "text/html": [
              "<div>\n",
              "<style scoped>\n",
              "    .dataframe tbody tr th:only-of-type {\n",
              "        vertical-align: middle;\n",
              "    }\n",
              "\n",
              "    .dataframe tbody tr th {\n",
              "        vertical-align: top;\n",
              "    }\n",
              "\n",
              "    .dataframe thead th {\n",
              "        text-align: right;\n",
              "    }\n",
              "</style>\n",
              "<table border=\"1\" class=\"dataframe\">\n",
              "  <thead>\n",
              "    <tr style=\"text-align: right;\">\n",
              "      <th></th>\n",
              "      <th>vidid</th>\n",
              "      <th>adview</th>\n",
              "      <th>views</th>\n",
              "      <th>likes</th>\n",
              "      <th>dislikes</th>\n",
              "      <th>comment</th>\n",
              "      <th>published</th>\n",
              "      <th>duration</th>\n",
              "      <th>category</th>\n",
              "    </tr>\n",
              "  </thead>\n",
              "  <tbody>\n",
              "    <tr>\n",
              "      <th>0</th>\n",
              "      <td>5912</td>\n",
              "      <td>40</td>\n",
              "      <td>1031602</td>\n",
              "      <td>8523</td>\n",
              "      <td>363</td>\n",
              "      <td>1095</td>\n",
              "      <td>2168</td>\n",
              "      <td>457</td>\n",
              "      <td>6</td>\n",
              "    </tr>\n",
              "    <tr>\n",
              "      <th>1</th>\n",
              "      <td>2741</td>\n",
              "      <td>2</td>\n",
              "      <td>1707</td>\n",
              "      <td>56</td>\n",
              "      <td>2</td>\n",
              "      <td>6</td>\n",
              "      <td>2185</td>\n",
              "      <td>570</td>\n",
              "      <td>4</td>\n",
              "    </tr>\n",
              "    <tr>\n",
              "      <th>2</th>\n",
              "      <td>8138</td>\n",
              "      <td>1</td>\n",
              "      <td>2023</td>\n",
              "      <td>25</td>\n",
              "      <td>0</td>\n",
              "      <td>2</td>\n",
              "      <td>2094</td>\n",
              "      <td>136</td>\n",
              "      <td>3</td>\n",
              "    </tr>\n",
              "    <tr>\n",
              "      <th>3</th>\n",
              "      <td>9005</td>\n",
              "      <td>6</td>\n",
              "      <td>620860</td>\n",
              "      <td>777</td>\n",
              "      <td>161</td>\n",
              "      <td>153</td>\n",
              "      <td>2119</td>\n",
              "      <td>262</td>\n",
              "      <td>8</td>\n",
              "    </tr>\n",
              "    <tr>\n",
              "      <th>4</th>\n",
              "      <td>122</td>\n",
              "      <td>1</td>\n",
              "      <td>666</td>\n",
              "      <td>1</td>\n",
              "      <td>0</td>\n",
              "      <td>0</td>\n",
              "      <td>2091</td>\n",
              "      <td>31</td>\n",
              "      <td>4</td>\n",
              "    </tr>\n",
              "  </tbody>\n",
              "</table>\n",
              "</div>"
            ],
            "text/plain": [
              "   vidid  adview    views  likes  ...  comment  published  duration  category\n",
              "0   5912      40  1031602   8523  ...     1095       2168       457         6\n",
              "1   2741       2     1707     56  ...        6       2185       570         4\n",
              "2   8138       1     2023     25  ...        2       2094       136         3\n",
              "3   9005       6   620860    777  ...      153       2119       262         8\n",
              "4    122       1      666      1  ...        0       2091        31         4\n",
              "\n",
              "[5 rows x 9 columns]"
            ]
          },
          "metadata": {
            "tags": []
          },
          "execution_count": 37
        }
      ]
    },
    {
      "cell_type": "code",
      "metadata": {
        "id": "jA5oS85leGJr",
        "outputId": "ea0ad126-d9ec-49e8-b540-b0aa23572980",
        "colab": {
          "base_uri": "https://localhost:8080/",
          "height": 402
        }
      },
      "source": [
        "X_train"
      ],
      "execution_count": null,
      "outputs": [
        {
          "output_type": "execute_result",
          "data": {
            "text/html": [
              "<div>\n",
              "<style scoped>\n",
              "    .dataframe tbody tr th:only-of-type {\n",
              "        vertical-align: middle;\n",
              "    }\n",
              "\n",
              "    .dataframe tbody tr th {\n",
              "        vertical-align: top;\n",
              "    }\n",
              "\n",
              "    .dataframe thead th {\n",
              "        text-align: right;\n",
              "    }\n",
              "</style>\n",
              "<table border=\"1\" class=\"dataframe\">\n",
              "  <thead>\n",
              "    <tr style=\"text-align: right;\">\n",
              "      <th></th>\n",
              "      <th>vidid</th>\n",
              "      <th>adview</th>\n",
              "      <th>views</th>\n",
              "      <th>likes</th>\n",
              "      <th>dislikes</th>\n",
              "      <th>comment</th>\n",
              "      <th>published</th>\n",
              "      <th>duration</th>\n",
              "      <th>category</th>\n",
              "    </tr>\n",
              "  </thead>\n",
              "  <tbody>\n",
              "    <tr>\n",
              "      <th>13440</th>\n",
              "      <td>1675</td>\n",
              "      <td>39</td>\n",
              "      <td>86739</td>\n",
              "      <td>117</td>\n",
              "      <td>9</td>\n",
              "      <td>4</td>\n",
              "      <td>1217</td>\n",
              "      <td>180</td>\n",
              "      <td>4</td>\n",
              "    </tr>\n",
              "    <tr>\n",
              "      <th>9523</th>\n",
              "      <td>7060</td>\n",
              "      <td>4</td>\n",
              "      <td>1419766</td>\n",
              "      <td>887</td>\n",
              "      <td>362</td>\n",
              "      <td>232</td>\n",
              "      <td>1547</td>\n",
              "      <td>5811</td>\n",
              "      <td>7</td>\n",
              "    </tr>\n",
              "    <tr>\n",
              "      <th>3012</th>\n",
              "      <td>6074</td>\n",
              "      <td>18782</td>\n",
              "      <td>26086</td>\n",
              "      <td>19</td>\n",
              "      <td>0</td>\n",
              "      <td>9</td>\n",
              "      <td>966</td>\n",
              "      <td>178</td>\n",
              "      <td>6</td>\n",
              "    </tr>\n",
              "    <tr>\n",
              "      <th>1888</th>\n",
              "      <td>7342</td>\n",
              "      <td>2</td>\n",
              "      <td>305445</td>\n",
              "      <td>3662</td>\n",
              "      <td>45</td>\n",
              "      <td>555</td>\n",
              "      <td>1484</td>\n",
              "      <td>257</td>\n",
              "      <td>7</td>\n",
              "    </tr>\n",
              "    <tr>\n",
              "      <th>11378</th>\n",
              "      <td>10620</td>\n",
              "      <td>20</td>\n",
              "      <td>737649</td>\n",
              "      <td>1702</td>\n",
              "      <td>96</td>\n",
              "      <td>53</td>\n",
              "      <td>1127</td>\n",
              "      <td>895</td>\n",
              "      <td>4</td>\n",
              "    </tr>\n",
              "    <tr>\n",
              "      <th>...</th>\n",
              "      <td>...</td>\n",
              "      <td>...</td>\n",
              "      <td>...</td>\n",
              "      <td>...</td>\n",
              "      <td>...</td>\n",
              "      <td>...</td>\n",
              "      <td>...</td>\n",
              "      <td>...</td>\n",
              "      <td>...</td>\n",
              "    </tr>\n",
              "    <tr>\n",
              "      <th>5316</th>\n",
              "      <td>8897</td>\n",
              "      <td>21127</td>\n",
              "      <td>31648</td>\n",
              "      <td>140</td>\n",
              "      <td>24</td>\n",
              "      <td>14</td>\n",
              "      <td>1925</td>\n",
              "      <td>231</td>\n",
              "      <td>7</td>\n",
              "    </tr>\n",
              "    <tr>\n",
              "      <th>13748</th>\n",
              "      <td>14166</td>\n",
              "      <td>1</td>\n",
              "      <td>1804</td>\n",
              "      <td>4</td>\n",
              "      <td>1</td>\n",
              "      <td>0</td>\n",
              "      <td>1049</td>\n",
              "      <td>232</td>\n",
              "      <td>4</td>\n",
              "    </tr>\n",
              "    <tr>\n",
              "      <th>5522</th>\n",
              "      <td>2267</td>\n",
              "      <td>1</td>\n",
              "      <td>204817</td>\n",
              "      <td>86</td>\n",
              "      <td>35</td>\n",
              "      <td>11</td>\n",
              "      <td>1237</td>\n",
              "      <td>218</td>\n",
              "      <td>4</td>\n",
              "    </tr>\n",
              "    <tr>\n",
              "      <th>883</th>\n",
              "      <td>6599</td>\n",
              "      <td>2</td>\n",
              "      <td>1361366</td>\n",
              "      <td>1384</td>\n",
              "      <td>757</td>\n",
              "      <td>185</td>\n",
              "      <td>2145</td>\n",
              "      <td>240</td>\n",
              "      <td>7</td>\n",
              "    </tr>\n",
              "    <tr>\n",
              "      <th>7445</th>\n",
              "      <td>13107</td>\n",
              "      <td>1</td>\n",
              "      <td>39758</td>\n",
              "      <td>122</td>\n",
              "      <td>6</td>\n",
              "      <td>3</td>\n",
              "      <td>224</td>\n",
              "      <td>354</td>\n",
              "      <td>4</td>\n",
              "    </tr>\n",
              "  </tbody>\n",
              "</table>\n",
              "<p>11708 rows × 9 columns</p>\n",
              "</div>"
            ],
            "text/plain": [
              "       vidid  adview    views  likes  ...  comment  published  duration  category\n",
              "13440   1675      39    86739    117  ...        4       1217       180         4\n",
              "9523    7060       4  1419766    887  ...      232       1547      5811         7\n",
              "3012    6074   18782    26086     19  ...        9        966       178         6\n",
              "1888    7342       2   305445   3662  ...      555       1484       257         7\n",
              "11378  10620      20   737649   1702  ...       53       1127       895         4\n",
              "...      ...     ...      ...    ...  ...      ...        ...       ...       ...\n",
              "5316    8897   21127    31648    140  ...       14       1925       231         7\n",
              "13748  14166       1     1804      4  ...        0       1049       232         4\n",
              "5522    2267       1   204817     86  ...       11       1237       218         4\n",
              "883     6599       2  1361366   1384  ...      185       2145       240         7\n",
              "7445   13107       1    39758    122  ...        3        224       354         4\n",
              "\n",
              "[11708 rows x 9 columns]"
            ]
          },
          "metadata": {
            "tags": []
          },
          "execution_count": 38
        }
      ]
    },
    {
      "cell_type": "code",
      "metadata": {
        "id": "BQs9hCkhfEqO",
        "outputId": "8c8aae78-4d38-4c0e-f199-a99ac99240c6",
        "colab": {
          "base_uri": "https://localhost:8080/",
          "height": 284
        }
      },
      "source": [
        "X_train.describe()"
      ],
      "execution_count": null,
      "outputs": [
        {
          "output_type": "execute_result",
          "data": {
            "text/html": [
              "<div>\n",
              "<style scoped>\n",
              "    .dataframe tbody tr th:only-of-type {\n",
              "        vertical-align: middle;\n",
              "    }\n",
              "\n",
              "    .dataframe tbody tr th {\n",
              "        vertical-align: top;\n",
              "    }\n",
              "\n",
              "    .dataframe thead th {\n",
              "        text-align: right;\n",
              "    }\n",
              "</style>\n",
              "<table border=\"1\" class=\"dataframe\">\n",
              "  <thead>\n",
              "    <tr style=\"text-align: right;\">\n",
              "      <th></th>\n",
              "      <th>vidid</th>\n",
              "      <th>adview</th>\n",
              "      <th>views</th>\n",
              "      <th>likes</th>\n",
              "      <th>dislikes</th>\n",
              "      <th>comment</th>\n",
              "      <th>published</th>\n",
              "      <th>duration</th>\n",
              "      <th>category</th>\n",
              "    </tr>\n",
              "  </thead>\n",
              "  <tbody>\n",
              "    <tr>\n",
              "      <th>count</th>\n",
              "      <td>11708.000000</td>\n",
              "      <td>1.170800e+04</td>\n",
              "      <td>1.170800e+04</td>\n",
              "      <td>11708.000000</td>\n",
              "      <td>11708.000000</td>\n",
              "      <td>11708.000000</td>\n",
              "      <td>11708.000000</td>\n",
              "      <td>11708.000000</td>\n",
              "      <td>11708.000000</td>\n",
              "    </tr>\n",
              "    <tr>\n",
              "      <th>mean</th>\n",
              "      <td>7293.367954</td>\n",
              "      <td>1.694426e+03</td>\n",
              "      <td>6.974161e+05</td>\n",
              "      <td>2771.122139</td>\n",
              "      <td>251.030577</td>\n",
              "      <td>418.178767</td>\n",
              "      <td>1551.810215</td>\n",
              "      <td>1048.108985</td>\n",
              "      <td>4.611548</td>\n",
              "    </tr>\n",
              "    <tr>\n",
              "      <th>std</th>\n",
              "      <td>4230.863849</td>\n",
              "      <td>2.765144e+04</td>\n",
              "      <td>2.582877e+06</td>\n",
              "      <td>8734.608422</td>\n",
              "      <td>965.881840</td>\n",
              "      <td>1556.703705</td>\n",
              "      <td>579.565587</td>\n",
              "      <td>2379.930309</td>\n",
              "      <td>1.579242</td>\n",
              "    </tr>\n",
              "    <tr>\n",
              "      <th>min</th>\n",
              "      <td>1.000000</td>\n",
              "      <td>1.000000e+00</td>\n",
              "      <td>4.900000e+01</td>\n",
              "      <td>0.000000</td>\n",
              "      <td>0.000000</td>\n",
              "      <td>0.000000</td>\n",
              "      <td>0.000000</td>\n",
              "      <td>0.000000</td>\n",
              "      <td>1.000000</td>\n",
              "    </tr>\n",
              "    <tr>\n",
              "      <th>25%</th>\n",
              "      <td>3606.750000</td>\n",
              "      <td>1.000000e+00</td>\n",
              "      <td>3.133975e+04</td>\n",
              "      <td>86.000000</td>\n",
              "      <td>7.000000</td>\n",
              "      <td>7.000000</td>\n",
              "      <td>1144.000000</td>\n",
              "      <td>188.000000</td>\n",
              "      <td>4.000000</td>\n",
              "    </tr>\n",
              "    <tr>\n",
              "      <th>50%</th>\n",
              "      <td>7282.500000</td>\n",
              "      <td>2.000000e+00</td>\n",
              "      <td>1.609395e+05</td>\n",
              "      <td>461.000000</td>\n",
              "      <td>39.000000</td>\n",
              "      <td>46.000000</td>\n",
              "      <td>1704.000000</td>\n",
              "      <td>327.000000</td>\n",
              "      <td>4.000000</td>\n",
              "    </tr>\n",
              "    <tr>\n",
              "      <th>75%</th>\n",
              "      <td>10969.250000</td>\n",
              "      <td>6.000000e+00</td>\n",
              "      <td>5.842132e+05</td>\n",
              "      <td>1897.000000</td>\n",
              "      <td>170.000000</td>\n",
              "      <td>232.000000</td>\n",
              "      <td>2065.000000</td>\n",
              "      <td>726.000000</td>\n",
              "      <td>6.000000</td>\n",
              "    </tr>\n",
              "    <tr>\n",
              "      <th>max</th>\n",
              "      <td>14636.000000</td>\n",
              "      <td>1.583846e+06</td>\n",
              "      <td>1.380479e+08</td>\n",
              "      <td>283824.000000</td>\n",
              "      <td>49449.000000</td>\n",
              "      <td>75045.000000</td>\n",
              "      <td>2383.000000</td>\n",
              "      <td>42317.000000</td>\n",
              "      <td>8.000000</td>\n",
              "    </tr>\n",
              "  </tbody>\n",
              "</table>\n",
              "</div>"
            ],
            "text/plain": [
              "              vidid        adview  ...      duration      category\n",
              "count  11708.000000  1.170800e+04  ...  11708.000000  11708.000000\n",
              "mean    7293.367954  1.694426e+03  ...   1048.108985      4.611548\n",
              "std     4230.863849  2.765144e+04  ...   2379.930309      1.579242\n",
              "min        1.000000  1.000000e+00  ...      0.000000      1.000000\n",
              "25%     3606.750000  1.000000e+00  ...    188.000000      4.000000\n",
              "50%     7282.500000  2.000000e+00  ...    327.000000      4.000000\n",
              "75%    10969.250000  6.000000e+00  ...    726.000000      6.000000\n",
              "max    14636.000000  1.583846e+06  ...  42317.000000      8.000000\n",
              "\n",
              "[8 rows x 9 columns]"
            ]
          },
          "metadata": {
            "tags": []
          },
          "execution_count": 39
        }
      ]
    },
    {
      "cell_type": "code",
      "metadata": {
        "id": "76SWDhSHafoM",
        "outputId": "2c60c6c4-bb2a-4b68-cbc0-3ee462cdd11e",
        "colab": {
          "base_uri": "https://localhost:8080/",
          "height": 34
        }
      },
      "source": [
        "from sklearn.preprocessing import MinMaxScaler\n",
        "scaler= MinMaxScaler()\n",
        "X_train=scaler.fit_transform(X_train)\n",
        "X_test=scaler.fit_transform(X_test)\n",
        "\n",
        "X_train.mean()\n"
      ],
      "execution_count": null,
      "outputs": [
        {
          "output_type": "execute_result",
          "data": {
            "text/plain": [
              "0.1907466322954143"
            ]
          },
          "metadata": {
            "tags": []
          },
          "execution_count": 40
        }
      ]
    },
    {
      "cell_type": "markdown",
      "metadata": {
        "id": "xuXrU1IHiroN"
      },
      "source": [
        "Metrics Evaluation"
      ]
    },
    {
      "cell_type": "code",
      "metadata": {
        "id": "-EhUe9WTfs1r"
      },
      "source": [
        "from sklearn import metrics\n",
        "def print_error(X_test,y_test,model_name):\n",
        "  prediction=model_name.predict(X_test)\n",
        "  print('mean absolute error:',metrics.mean_absolute_error(y_test,prediction))\n",
        "  print('mean squared error:',metrics.mean_squared_error(y_test,prediction))\n",
        "  print('root mean squared error:',np.sqrt(metrics.mean_absolute_error(y_test,prediction)))"
      ],
      "execution_count": null,
      "outputs": []
    },
    {
      "cell_type": "markdown",
      "metadata": {
        "id": "6V1gjurCi3P3"
      },
      "source": [
        "Linear Regression"
      ]
    },
    {
      "cell_type": "code",
      "metadata": {
        "id": "xqBn6YkI9-xw",
        "outputId": "ff460f78-1a0f-420b-88a4-075404aaea1a",
        "colab": {
          "base_uri": "https://localhost:8080/",
          "height": 134
        }
      },
      "source": [
        "from sklearn import linear_model\n",
        "linear_regression=linear_model.LinearRegression()\n",
        "linear_regression.fit(X_train,y_train)\n",
        "\n",
        "linear_regression.predict(X_test)"
      ],
      "execution_count": null,
      "outputs": [
        {
          "output_type": "execute_result",
          "data": {
            "text/plain": [
              "array([[ 5.75049583],\n",
              "       [ 2.18762396],\n",
              "       [ 5.75049583],\n",
              "       ...,\n",
              "       [ 1.        ],\n",
              "       [ 2.18762396],\n",
              "       [12.87623957]])"
            ]
          },
          "metadata": {
            "tags": []
          },
          "execution_count": 42
        }
      ]
    },
    {
      "cell_type": "code",
      "metadata": {
        "id": "5QYtWlF0h28O",
        "outputId": "d95d3cd6-d528-4d41-b33e-2baee7dbe279",
        "colab": {
          "base_uri": "https://localhost:8080/",
          "height": 67
        }
      },
      "source": [
        "print_error(X_test,y_test,linear_regression)"
      ],
      "execution_count": null,
      "outputs": [
        {
          "output_type": "stream",
          "text": [
            "mean absolute error: 318.4444410623552\n",
            "mean squared error: 29348199.86051378\n",
            "root mean squared error: 17.845011657669357\n"
          ],
          "name": "stdout"
        }
      ]
    },
    {
      "cell_type": "markdown",
      "metadata": {
        "id": "I8regv-4jnkl"
      },
      "source": [
        "Decision Tree Regressor"
      ]
    },
    {
      "cell_type": "code",
      "metadata": {
        "id": "8zSMfLsoinpX",
        "outputId": "139ecb47-f660-414c-dadc-7d118a81589c",
        "colab": {
          "base_uri": "https://localhost:8080/",
          "height": 67
        }
      },
      "source": [
        "from sklearn.tree import DecisionTreeRegressor\n",
        "decision_tree=DecisionTreeRegressor()\n",
        "decision_tree.fit(X_train,y_train)\n",
        "print_error(X_test,y_test,decision_tree)\n"
      ],
      "execution_count": null,
      "outputs": [
        {
          "output_type": "stream",
          "text": [
            "mean absolute error: 277.9535519125683\n",
            "mean squared error: 16791739.152322404\n",
            "root mean squared error: 16.67193905676746\n"
          ],
          "name": "stdout"
        }
      ]
    },
    {
      "cell_type": "markdown",
      "metadata": {
        "id": "fJaXFJVKjunK"
      },
      "source": [
        "Random Forest Regressor"
      ]
    },
    {
      "cell_type": "code",
      "metadata": {
        "id": "-HrQSsTGM4Jr",
        "outputId": "f4033b50-ffe5-4196-d8a5-435a64cd981a",
        "colab": {
          "base_uri": "https://localhost:8080/",
          "height": 188
        }
      },
      "source": [
        "from sklearn.ensemble import RandomForestRegressor\n",
        "n_estimators=200\n",
        "max_depth=25\n",
        "min_samples_split=15\n",
        "min_samples_leaf=2\n",
        "random_forest=RandomForestRegressor(n_estimators=n_estimators,max_depth=max_depth,min_samples_split=min_samples_split,min_samples_leaf=min_samples_leaf)\n",
        "random_forest.fit(X_train,y_train)"
      ],
      "execution_count": null,
      "outputs": [
        {
          "output_type": "stream",
          "text": [
            "/usr/local/lib/python3.6/dist-packages/ipykernel_launcher.py:7: DataConversionWarning: A column-vector y was passed when a 1d array was expected. Please change the shape of y to (n_samples,), for example using ravel().\n",
            "  import sys\n"
          ],
          "name": "stderr"
        },
        {
          "output_type": "execute_result",
          "data": {
            "text/plain": [
              "RandomForestRegressor(bootstrap=True, ccp_alpha=0.0, criterion='mse',\n",
              "                      max_depth=25, max_features='auto', max_leaf_nodes=None,\n",
              "                      max_samples=None, min_impurity_decrease=0.0,\n",
              "                      min_impurity_split=None, min_samples_leaf=2,\n",
              "                      min_samples_split=15, min_weight_fraction_leaf=0.0,\n",
              "                      n_estimators=200, n_jobs=None, oob_score=False,\n",
              "                      random_state=None, verbose=0, warm_start=False)"
            ]
          },
          "metadata": {
            "tags": []
          },
          "execution_count": 45
        }
      ]
    },
    {
      "cell_type": "code",
      "metadata": {
        "id": "YoKZGy53OeUW",
        "outputId": "5ed09c22-b18f-4e6e-e939-b6d6f2d0200f",
        "colab": {
          "base_uri": "https://localhost:8080/",
          "height": 67
        }
      },
      "source": [
        "print_error(X_test,y_test,random_forest)"
      ],
      "execution_count": null,
      "outputs": [
        {
          "output_type": "stream",
          "text": [
            "mean absolute error: 312.2765288655921\n",
            "mean squared error: 36451756.145956814\n",
            "root mean squared error: 17.671347681079453\n"
          ],
          "name": "stdout"
        }
      ]
    },
    {
      "cell_type": "markdown",
      "metadata": {
        "id": "FH2zTi9lj2eB"
      },
      "source": [
        "Support Vector Regressor"
      ]
    },
    {
      "cell_type": "code",
      "metadata": {
        "id": "hJhV8YPcOzxc",
        "outputId": "3d62d99a-026b-48d3-f366-e27ed1a7bdc2",
        "colab": {
          "base_uri": "https://localhost:8080/",
          "height": 67
        }
      },
      "source": [
        "from sklearn.svm import SVR\n",
        "supportvector_regressor=SVR()\n",
        "print_error(X_test,y_test,linear_regression)"
      ],
      "execution_count": null,
      "outputs": [
        {
          "output_type": "stream",
          "text": [
            "mean absolute error: 318.4444410623552\n",
            "mean squared error: 29348199.86051378\n",
            "root mean squared error: 17.845011657669357\n"
          ],
          "name": "stdout"
        }
      ]
    },
    {
      "cell_type": "markdown",
      "metadata": {
        "id": "5i88PYomkGnL"
      },
      "source": [
        "Artificial Neural Network"
      ]
    },
    {
      "cell_type": "code",
      "metadata": {
        "id": "9cTbTqhYPe7m"
      },
      "source": [
        "import keras\n",
        "from keras.layers import Dense\n",
        "\n",
        "ann=keras.models.Sequential([\n",
        "                             Dense(6,activation=\"relu\",\n",
        "                             input_shape=X_train.shape[1:]),\n",
        "                             Dense(6,activation=\"relu\"),\n",
        "                             Dense(1)\n",
        "                             ])"
      ],
      "execution_count": null,
      "outputs": []
    },
    {
      "cell_type": "code",
      "metadata": {
        "id": "NCh_paH5R7zR",
        "outputId": "e04c1543-7cb9-467d-fdc6-37410211ba15",
        "colab": {
          "base_uri": "https://localhost:8080/",
          "height": 1000
        }
      },
      "source": [
        "optimizer=keras.optimizers.Adam()\n",
        "loss=keras.losses.mean_squared_error\n",
        "ann.compile(optimizer=optimizer,loss=loss,metrics=[\"mean_squared_error\"])\n",
        "\n",
        "history=ann.fit(X_train,y_train,epochs=100)\n",
        "\n",
        "ann.summary()"
      ],
      "execution_count": null,
      "outputs": [
        {
          "output_type": "stream",
          "text": [
            "Epoch 1/100\n",
            "366/366 [==============================] - 0s 789us/step - loss: 767404928.0000 - mean_squared_error: 767404928.0000\n",
            "Epoch 2/100\n",
            "366/366 [==============================] - 0s 792us/step - loss: 767395776.0000 - mean_squared_error: 767395776.0000\n",
            "Epoch 3/100\n",
            "366/366 [==============================] - 0s 818us/step - loss: 767374720.0000 - mean_squared_error: 767374720.0000\n",
            "Epoch 4/100\n",
            "366/366 [==============================] - 0s 794us/step - loss: 767327104.0000 - mean_squared_error: 767327104.0000\n",
            "Epoch 5/100\n",
            "366/366 [==============================] - 0s 802us/step - loss: 767247936.0000 - mean_squared_error: 767247936.0000\n",
            "Epoch 6/100\n",
            "366/366 [==============================] - 0s 779us/step - loss: 767143936.0000 - mean_squared_error: 767143936.0000\n",
            "Epoch 7/100\n",
            "366/366 [==============================] - 0s 852us/step - loss: 767016768.0000 - mean_squared_error: 767016768.0000\n",
            "Epoch 8/100\n",
            "366/366 [==============================] - 0s 794us/step - loss: 766855680.0000 - mean_squared_error: 766855680.0000\n",
            "Epoch 9/100\n",
            "366/366 [==============================] - 0s 789us/step - loss: 766677440.0000 - mean_squared_error: 766677440.0000\n",
            "Epoch 10/100\n",
            "366/366 [==============================] - 0s 797us/step - loss: 766490368.0000 - mean_squared_error: 766490368.0000\n",
            "Epoch 11/100\n",
            "366/366 [==============================] - 0s 800us/step - loss: 766301248.0000 - mean_squared_error: 766301248.0000\n",
            "Epoch 12/100\n",
            "366/366 [==============================] - 0s 781us/step - loss: 766116032.0000 - mean_squared_error: 766116032.0000\n",
            "Epoch 13/100\n",
            "366/366 [==============================] - 0s 805us/step - loss: 765927872.0000 - mean_squared_error: 765927872.0000\n",
            "Epoch 14/100\n",
            "366/366 [==============================] - 0s 813us/step - loss: 765738944.0000 - mean_squared_error: 765738944.0000\n",
            "Epoch 15/100\n",
            "366/366 [==============================] - 0s 783us/step - loss: 765553472.0000 - mean_squared_error: 765553472.0000\n",
            "Epoch 16/100\n",
            "366/366 [==============================] - 0s 790us/step - loss: 765375680.0000 - mean_squared_error: 765375680.0000\n",
            "Epoch 17/100\n",
            "366/366 [==============================] - 0s 780us/step - loss: 765204352.0000 - mean_squared_error: 765204352.0000\n",
            "Epoch 18/100\n",
            "366/366 [==============================] - 0s 765us/step - loss: 765056000.0000 - mean_squared_error: 765056000.0000\n",
            "Epoch 19/100\n",
            "366/366 [==============================] - 0s 776us/step - loss: 764923392.0000 - mean_squared_error: 764923392.0000\n",
            "Epoch 20/100\n",
            "366/366 [==============================] - 0s 787us/step - loss: 764800576.0000 - mean_squared_error: 764800576.0000\n",
            "Epoch 21/100\n",
            "366/366 [==============================] - 0s 827us/step - loss: 764691840.0000 - mean_squared_error: 764691840.0000\n",
            "Epoch 22/100\n",
            "366/366 [==============================] - 0s 791us/step - loss: 764593152.0000 - mean_squared_error: 764593152.0000\n",
            "Epoch 23/100\n",
            "366/366 [==============================] - 0s 791us/step - loss: 764504960.0000 - mean_squared_error: 764504960.0000\n",
            "Epoch 24/100\n",
            "366/366 [==============================] - 0s 808us/step - loss: 764424832.0000 - mean_squared_error: 764424832.0000\n",
            "Epoch 25/100\n",
            "366/366 [==============================] - 0s 865us/step - loss: 764351296.0000 - mean_squared_error: 764351296.0000\n",
            "Epoch 26/100\n",
            "366/366 [==============================] - 0s 799us/step - loss: 764286336.0000 - mean_squared_error: 764286336.0000\n",
            "Epoch 27/100\n",
            "366/366 [==============================] - 0s 846us/step - loss: 764224448.0000 - mean_squared_error: 764224448.0000\n",
            "Epoch 28/100\n",
            "366/366 [==============================] - 0s 770us/step - loss: 764173312.0000 - mean_squared_error: 764173312.0000\n",
            "Epoch 29/100\n",
            "366/366 [==============================] - 0s 860us/step - loss: 764127168.0000 - mean_squared_error: 764127168.0000\n",
            "Epoch 30/100\n",
            "366/366 [==============================] - 0s 871us/step - loss: 764086080.0000 - mean_squared_error: 764086080.0000\n",
            "Epoch 31/100\n",
            "366/366 [==============================] - 0s 772us/step - loss: 764039616.0000 - mean_squared_error: 764039616.0000\n",
            "Epoch 32/100\n",
            "366/366 [==============================] - 0s 782us/step - loss: 764000576.0000 - mean_squared_error: 764000576.0000\n",
            "Epoch 33/100\n",
            "366/366 [==============================] - 0s 793us/step - loss: 763964288.0000 - mean_squared_error: 763964288.0000\n",
            "Epoch 34/100\n",
            "366/366 [==============================] - 0s 865us/step - loss: 763927360.0000 - mean_squared_error: 763927360.0000\n",
            "Epoch 35/100\n",
            "366/366 [==============================] - 0s 800us/step - loss: 763895296.0000 - mean_squared_error: 763895296.0000\n",
            "Epoch 36/100\n",
            "366/366 [==============================] - 0s 781us/step - loss: 763863552.0000 - mean_squared_error: 763863552.0000\n",
            "Epoch 37/100\n",
            "366/366 [==============================] - 0s 824us/step - loss: 763834176.0000 - mean_squared_error: 763834176.0000\n",
            "Epoch 38/100\n",
            "366/366 [==============================] - 0s 929us/step - loss: 763804160.0000 - mean_squared_error: 763804160.0000\n",
            "Epoch 39/100\n",
            "366/366 [==============================] - 0s 910us/step - loss: 763770816.0000 - mean_squared_error: 763770816.0000\n",
            "Epoch 40/100\n",
            "366/366 [==============================] - 0s 793us/step - loss: 763742272.0000 - mean_squared_error: 763742272.0000\n",
            "Epoch 41/100\n",
            "366/366 [==============================] - 0s 814us/step - loss: 763711296.0000 - mean_squared_error: 763711296.0000\n",
            "Epoch 42/100\n",
            "366/366 [==============================] - 0s 799us/step - loss: 763683072.0000 - mean_squared_error: 763683072.0000\n",
            "Epoch 43/100\n",
            "366/366 [==============================] - 0s 802us/step - loss: 763652992.0000 - mean_squared_error: 763652992.0000\n",
            "Epoch 44/100\n",
            "366/366 [==============================] - 0s 783us/step - loss: 763627520.0000 - mean_squared_error: 763627520.0000\n",
            "Epoch 45/100\n",
            "366/366 [==============================] - 0s 896us/step - loss: 763597632.0000 - mean_squared_error: 763597632.0000\n",
            "Epoch 46/100\n",
            "366/366 [==============================] - 0s 812us/step - loss: 763568448.0000 - mean_squared_error: 763568448.0000\n",
            "Epoch 47/100\n",
            "366/366 [==============================] - 0s 824us/step - loss: 763542272.0000 - mean_squared_error: 763542272.0000\n",
            "Epoch 48/100\n",
            "366/366 [==============================] - 0s 774us/step - loss: 763509312.0000 - mean_squared_error: 763509312.0000\n",
            "Epoch 49/100\n",
            "366/366 [==============================] - 0s 805us/step - loss: 763485504.0000 - mean_squared_error: 763485504.0000\n",
            "Epoch 50/100\n",
            "366/366 [==============================] - 0s 854us/step - loss: 763450304.0000 - mean_squared_error: 763450304.0000\n",
            "Epoch 51/100\n",
            "366/366 [==============================] - 0s 851us/step - loss: 763421248.0000 - mean_squared_error: 763421248.0000\n",
            "Epoch 52/100\n",
            "366/366 [==============================] - 0s 812us/step - loss: 763398592.0000 - mean_squared_error: 763398592.0000\n",
            "Epoch 53/100\n",
            "366/366 [==============================] - 0s 797us/step - loss: 763366208.0000 - mean_squared_error: 763366208.0000\n",
            "Epoch 54/100\n",
            "366/366 [==============================] - 0s 801us/step - loss: 763335744.0000 - mean_squared_error: 763335744.0000\n",
            "Epoch 55/100\n",
            "366/366 [==============================] - 0s 773us/step - loss: 763306560.0000 - mean_squared_error: 763306560.0000\n",
            "Epoch 56/100\n",
            "366/366 [==============================] - 0s 803us/step - loss: 763275584.0000 - mean_squared_error: 763275584.0000\n",
            "Epoch 57/100\n",
            "366/366 [==============================] - 0s 876us/step - loss: 763242944.0000 - mean_squared_error: 763242944.0000\n",
            "Epoch 58/100\n",
            "366/366 [==============================] - 0s 776us/step - loss: 763214016.0000 - mean_squared_error: 763214016.0000\n",
            "Epoch 59/100\n",
            "366/366 [==============================] - 0s 786us/step - loss: 763188352.0000 - mean_squared_error: 763188352.0000\n",
            "Epoch 60/100\n",
            "366/366 [==============================] - 0s 810us/step - loss: 763151360.0000 - mean_squared_error: 763151360.0000\n",
            "Epoch 61/100\n",
            "366/366 [==============================] - 0s 796us/step - loss: 763116928.0000 - mean_squared_error: 763116928.0000\n",
            "Epoch 62/100\n",
            "366/366 [==============================] - 0s 783us/step - loss: 763089984.0000 - mean_squared_error: 763089984.0000\n",
            "Epoch 63/100\n",
            "366/366 [==============================] - 0s 790us/step - loss: 763051200.0000 - mean_squared_error: 763051200.0000\n",
            "Epoch 64/100\n",
            "366/366 [==============================] - 0s 802us/step - loss: 763018432.0000 - mean_squared_error: 763018432.0000\n",
            "Epoch 65/100\n",
            "366/366 [==============================] - 0s 801us/step - loss: 762982848.0000 - mean_squared_error: 762982848.0000\n",
            "Epoch 66/100\n",
            "366/366 [==============================] - 0s 799us/step - loss: 762953344.0000 - mean_squared_error: 762953344.0000\n",
            "Epoch 67/100\n",
            "366/366 [==============================] - 0s 819us/step - loss: 762921088.0000 - mean_squared_error: 762921088.0000\n",
            "Epoch 68/100\n",
            "366/366 [==============================] - 0s 846us/step - loss: 762881792.0000 - mean_squared_error: 762881792.0000\n",
            "Epoch 69/100\n",
            "366/366 [==============================] - 0s 822us/step - loss: 762847744.0000 - mean_squared_error: 762847744.0000\n",
            "Epoch 70/100\n",
            "366/366 [==============================] - 0s 802us/step - loss: 762814528.0000 - mean_squared_error: 762814528.0000\n",
            "Epoch 71/100\n",
            "366/366 [==============================] - 0s 790us/step - loss: 762775296.0000 - mean_squared_error: 762775296.0000\n",
            "Epoch 72/100\n",
            "366/366 [==============================] - 0s 851us/step - loss: 762739648.0000 - mean_squared_error: 762739648.0000\n",
            "Epoch 73/100\n",
            "366/366 [==============================] - 0s 812us/step - loss: 762703168.0000 - mean_squared_error: 762703168.0000\n",
            "Epoch 74/100\n",
            "366/366 [==============================] - 0s 930us/step - loss: 762662528.0000 - mean_squared_error: 762662528.0000\n",
            "Epoch 75/100\n",
            "366/366 [==============================] - 0s 861us/step - loss: 762627136.0000 - mean_squared_error: 762627136.0000\n",
            "Epoch 76/100\n",
            "366/366 [==============================] - 0s 791us/step - loss: 762592128.0000 - mean_squared_error: 762592128.0000\n",
            "Epoch 77/100\n",
            "366/366 [==============================] - 0s 925us/step - loss: 762549376.0000 - mean_squared_error: 762549376.0000\n",
            "Epoch 78/100\n",
            "366/366 [==============================] - 0s 858us/step - loss: 762507776.0000 - mean_squared_error: 762507776.0000\n",
            "Epoch 79/100\n",
            "366/366 [==============================] - 0s 789us/step - loss: 762465152.0000 - mean_squared_error: 762465152.0000\n",
            "Epoch 80/100\n",
            "366/366 [==============================] - 0s 855us/step - loss: 762425792.0000 - mean_squared_error: 762425792.0000\n",
            "Epoch 81/100\n",
            "366/366 [==============================] - 0s 869us/step - loss: 762385152.0000 - mean_squared_error: 762385152.0000\n",
            "Epoch 82/100\n",
            "366/366 [==============================] - 0s 813us/step - loss: 762341696.0000 - mean_squared_error: 762341696.0000\n",
            "Epoch 83/100\n",
            "366/366 [==============================] - 0s 803us/step - loss: 762302848.0000 - mean_squared_error: 762302848.0000\n",
            "Epoch 84/100\n",
            "366/366 [==============================] - 0s 820us/step - loss: 762258176.0000 - mean_squared_error: 762258176.0000\n",
            "Epoch 85/100\n",
            "366/366 [==============================] - 0s 808us/step - loss: 762214976.0000 - mean_squared_error: 762214976.0000\n",
            "Epoch 86/100\n",
            "366/366 [==============================] - 0s 813us/step - loss: 762169600.0000 - mean_squared_error: 762169600.0000\n",
            "Epoch 87/100\n",
            "366/366 [==============================] - 0s 955us/step - loss: 762127552.0000 - mean_squared_error: 762127552.0000\n",
            "Epoch 88/100\n",
            "366/366 [==============================] - 0s 919us/step - loss: 762080128.0000 - mean_squared_error: 762080128.0000\n",
            "Epoch 89/100\n",
            "366/366 [==============================] - 0s 838us/step - loss: 762037056.0000 - mean_squared_error: 762037056.0000\n",
            "Epoch 90/100\n",
            "366/366 [==============================] - 0s 840us/step - loss: 761988928.0000 - mean_squared_error: 761988928.0000\n",
            "Epoch 91/100\n",
            "366/366 [==============================] - 0s 810us/step - loss: 761942912.0000 - mean_squared_error: 761942912.0000\n",
            "Epoch 92/100\n",
            "366/366 [==============================] - 0s 792us/step - loss: 761897152.0000 - mean_squared_error: 761897152.0000\n",
            "Epoch 93/100\n",
            "366/366 [==============================] - 0s 908us/step - loss: 761848832.0000 - mean_squared_error: 761848832.0000\n",
            "Epoch 94/100\n",
            "366/366 [==============================] - 0s 856us/step - loss: 761795776.0000 - mean_squared_error: 761795776.0000\n",
            "Epoch 95/100\n",
            "366/366 [==============================] - 0s 823us/step - loss: 761749824.0000 - mean_squared_error: 761749824.0000\n",
            "Epoch 96/100\n",
            "366/366 [==============================] - 0s 800us/step - loss: 761701056.0000 - mean_squared_error: 761701056.0000\n",
            "Epoch 97/100\n",
            "366/366 [==============================] - 0s 854us/step - loss: 761651264.0000 - mean_squared_error: 761651264.0000\n",
            "Epoch 98/100\n",
            "366/366 [==============================] - 0s 841us/step - loss: 761600960.0000 - mean_squared_error: 761600960.0000\n",
            "Epoch 99/100\n",
            "366/366 [==============================] - 0s 858us/step - loss: 761548928.0000 - mean_squared_error: 761548928.0000\n",
            "Epoch 100/100\n",
            "366/366 [==============================] - 0s 839us/step - loss: 761498048.0000 - mean_squared_error: 761498048.0000\n",
            "Model: \"sequential\"\n",
            "_________________________________________________________________\n",
            "Layer (type)                 Output Shape              Param #   \n",
            "=================================================================\n",
            "dense (Dense)                (None, 6)                 60        \n",
            "_________________________________________________________________\n",
            "dense_1 (Dense)              (None, 6)                 42        \n",
            "_________________________________________________________________\n",
            "dense_2 (Dense)              (None, 1)                 7         \n",
            "=================================================================\n",
            "Total params: 109\n",
            "Trainable params: 109\n",
            "Non-trainable params: 0\n",
            "_________________________________________________________________\n"
          ],
          "name": "stdout"
        }
      ]
    },
    {
      "cell_type": "code",
      "metadata": {
        "id": "v_5D2ZPemhB6",
        "outputId": "68c950e1-a7e8-402c-830d-ca55a78a7497",
        "colab": {
          "base_uri": "https://localhost:8080/",
          "height": 67
        }
      },
      "source": [
        "print_error(X_test,y_test,ann)"
      ],
      "execution_count": null,
      "outputs": [
        {
          "output_type": "stream",
          "text": [
            "mean absolute error: 3301.8790457092346\n",
            "mean squared error: 827158519.8246633\n",
            "root mean squared error: 57.46197913150255\n"
          ],
          "name": "stdout"
        }
      ]
    }
  ]
}